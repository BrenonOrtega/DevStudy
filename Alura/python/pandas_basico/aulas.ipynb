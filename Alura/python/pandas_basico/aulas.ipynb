{
 "metadata": {
  "language_info": {
   "codemirror_mode": {
    "name": "ipython",
    "version": 3
   },
   "file_extension": ".py",
   "mimetype": "text/x-python",
   "name": "python",
   "nbconvert_exporter": "python",
   "pygments_lexer": "ipython3",
   "version": "3.9.2-final"
  },
  "orig_nbformat": 2,
  "kernelspec": {
   "name": "python3",
   "display_name": "Python 3.9.2 64-bit",
   "metadata": {
    "interpreter": {
     "hash": "1bf3c79337c2469476823b6952886bcae960a573f5e5aadb3512976765d29961"
    }
   }
  }
 },
 "nbformat": 4,
 "nbformat_minor": 2,
 "cells": [
  {
   "cell_type": "code",
   "execution_count": 57,
   "metadata": {},
   "outputs": [
    {
     "output_type": "execute_result",
     "data": {
      "text/plain": [
       "                km     ano  km_media\n",
       "Crossfox   35000.0  2005.0    2500.0\n",
       "DS5        17000.0  2015.0    4250.0\n",
       "Fusca     130000.0  1979.0    3250.0\n",
       "Jetta      56000.0  2011.0    7000.0\n",
       "Passat     62000.0  1999.0    3100.0"
      ],
      "text/html": "<div>\n<style scoped>\n    .dataframe tbody tr th:only-of-type {\n        vertical-align: middle;\n    }\n\n    .dataframe tbody tr th {\n        vertical-align: top;\n    }\n\n    .dataframe thead th {\n        text-align: right;\n    }\n</style>\n<table border=\"1\" class=\"dataframe\">\n  <thead>\n    <tr style=\"text-align: right;\">\n      <th></th>\n      <th>km</th>\n      <th>ano</th>\n      <th>km_media</th>\n    </tr>\n  </thead>\n  <tbody>\n    <tr>\n      <th>Crossfox</th>\n      <td>35000.0</td>\n      <td>2005.0</td>\n      <td>2500.0</td>\n    </tr>\n    <tr>\n      <th>DS5</th>\n      <td>17000.0</td>\n      <td>2015.0</td>\n      <td>4250.0</td>\n    </tr>\n    <tr>\n      <th>Fusca</th>\n      <td>130000.0</td>\n      <td>1979.0</td>\n      <td>3250.0</td>\n    </tr>\n    <tr>\n      <th>Jetta</th>\n      <td>56000.0</td>\n      <td>2011.0</td>\n      <td>7000.0</td>\n    </tr>\n    <tr>\n      <th>Passat</th>\n      <td>62000.0</td>\n      <td>1999.0</td>\n      <td>3100.0</td>\n    </tr>\n  </tbody>\n</table>\n</div>"
     },
     "metadata": {},
     "execution_count": 57
    }
   ],
   "source": [
    "import pandas as pd\n",
    "\n",
    "dados = {\n",
    "    'Crossfox': {'km': 35000, 'ano': 2005}, \n",
    "    'DS5': {'km': 17000, 'ano': 2015}, \n",
    "    'Fusca': {'km': 130000, 'ano': 1979}, \n",
    "    'Jetta': {'km': 56000, 'ano': 2011}, \n",
    "    'Passat': {'km': 62000, 'ano': 1999}\n",
    "}\n",
    "\n",
    "def km_media(dataset, ano_atual):\n",
    "    result = {}\n",
    "    for item in dataset.items():\n",
    "        media = item[1]['km'] / (ano_atual - item[1]['ano'])\n",
    "        item[1].update({ 'km_media': media })\n",
    "        result.update({ item[0]: item[1] })\n",
    "\n",
    "    return result\n",
    "\n",
    "carros = pd.DataFrame(km_media(dados, 2019)).T\n",
    "carros"
   ]
  },
  {
   "cell_type": "code",
   "execution_count": 61,
   "metadata": {},
   "outputs": [
    {
     "output_type": "display_data",
     "data": {
      "text/plain": "                                       Motor   Ano  Quilometragem  Zero_km  \\\nNome                                                                         \nJetta Variant                Motor 4.0 Turbo  2003        44410.0    False   \nPassat                          Motor Diesel  1991         5712.0    False   \nCrossfox                     Motor Diesel V8  1990        37123.0    False   \nDS5                          Motor 2.4 Turbo  2019            NaN     True   \nAston Martin DB4             Motor 2.4 Turbo  2006        25757.0    False   \n...                                      ...   ...            ...      ...   \nPhantom 2013                        Motor V8  2014        27505.0    False   \nCadillac Ciel concept               Motor V8  1991        29981.0    False   \nClasse GLK             Motor 5.0 V8 Bi-Turbo  2002        52637.0    False   \nAston Martin DB5                Motor Diesel  1996         7685.0    False   \nMacan                        Motor Diesel V6  1992        50188.0    False   \n\n                                                              Acessórios  \\\nNome                                                                       \nJetta Variant          ['Rodas de liga', 'Travas elétricas', 'Piloto ...   \nPassat                 ['Central multimídia', 'Teto panorâmico', 'Fre...   \nCrossfox               ['Piloto automático', 'Controle de estabilidad...   \nDS5                    ['Travas elétricas', '4 X 4', 'Vidros elétrico...   \nAston Martin DB4       ['Rodas de liga', '4 X 4', 'Central multimídia...   \n...                                                                  ...   \nPhantom 2013           ['Controle de estabilidade', 'Piloto automátic...   \nCadillac Ciel concept  ['Bancos de couro', 'Painel digital', 'Sensor ...   \nClasse GLK             ['Rodas de liga', 'Controle de tração', 'Câmbi...   \nAston Martin DB5       ['Ar condicionado', '4 X 4', 'Câmbio automátic...   \nMacan                  ['Central multimídia', 'Teto panorâmico', 'Vid...   \n\n                           Valor  \nNome                              \nJetta Variant           88078.64  \nPassat                 106161.94  \nCrossfox                72832.16  \nDS5                    124549.07  \nAston Martin DB4        92612.10  \n...                          ...  \nPhantom 2013            51759.58  \nCadillac Ciel concept   51667.06  \nClasse GLK              68934.03  \nAston Martin DB5       122110.90  \nMacan                   90381.47  \n\n[258 rows x 6 columns]",
      "text/html": "<div>\n<style scoped>\n    .dataframe tbody tr th:only-of-type {\n        vertical-align: middle;\n    }\n\n    .dataframe tbody tr th {\n        vertical-align: top;\n    }\n\n    .dataframe thead th {\n        text-align: right;\n    }\n</style>\n<table border=\"1\" class=\"dataframe\">\n  <thead>\n    <tr style=\"text-align: right;\">\n      <th></th>\n      <th>Motor</th>\n      <th>Ano</th>\n      <th>Quilometragem</th>\n      <th>Zero_km</th>\n      <th>Acessórios</th>\n      <th>Valor</th>\n    </tr>\n    <tr>\n      <th>Nome</th>\n      <th></th>\n      <th></th>\n      <th></th>\n      <th></th>\n      <th></th>\n      <th></th>\n    </tr>\n  </thead>\n  <tbody>\n    <tr>\n      <th>Jetta Variant</th>\n      <td>Motor 4.0 Turbo</td>\n      <td>2003</td>\n      <td>44410.0</td>\n      <td>False</td>\n      <td>['Rodas de liga', 'Travas elétricas', 'Piloto ...</td>\n      <td>88078.64</td>\n    </tr>\n    <tr>\n      <th>Passat</th>\n      <td>Motor Diesel</td>\n      <td>1991</td>\n      <td>5712.0</td>\n      <td>False</td>\n      <td>['Central multimídia', 'Teto panorâmico', 'Fre...</td>\n      <td>106161.94</td>\n    </tr>\n    <tr>\n      <th>Crossfox</th>\n      <td>Motor Diesel V8</td>\n      <td>1990</td>\n      <td>37123.0</td>\n      <td>False</td>\n      <td>['Piloto automático', 'Controle de estabilidad...</td>\n      <td>72832.16</td>\n    </tr>\n    <tr>\n      <th>DS5</th>\n      <td>Motor 2.4 Turbo</td>\n      <td>2019</td>\n      <td>NaN</td>\n      <td>True</td>\n      <td>['Travas elétricas', '4 X 4', 'Vidros elétrico...</td>\n      <td>124549.07</td>\n    </tr>\n    <tr>\n      <th>Aston Martin DB4</th>\n      <td>Motor 2.4 Turbo</td>\n      <td>2006</td>\n      <td>25757.0</td>\n      <td>False</td>\n      <td>['Rodas de liga', '4 X 4', 'Central multimídia...</td>\n      <td>92612.10</td>\n    </tr>\n    <tr>\n      <th>...</th>\n      <td>...</td>\n      <td>...</td>\n      <td>...</td>\n      <td>...</td>\n      <td>...</td>\n      <td>...</td>\n    </tr>\n    <tr>\n      <th>Phantom 2013</th>\n      <td>Motor V8</td>\n      <td>2014</td>\n      <td>27505.0</td>\n      <td>False</td>\n      <td>['Controle de estabilidade', 'Piloto automátic...</td>\n      <td>51759.58</td>\n    </tr>\n    <tr>\n      <th>Cadillac Ciel concept</th>\n      <td>Motor V8</td>\n      <td>1991</td>\n      <td>29981.0</td>\n      <td>False</td>\n      <td>['Bancos de couro', 'Painel digital', 'Sensor ...</td>\n      <td>51667.06</td>\n    </tr>\n    <tr>\n      <th>Classe GLK</th>\n      <td>Motor 5.0 V8 Bi-Turbo</td>\n      <td>2002</td>\n      <td>52637.0</td>\n      <td>False</td>\n      <td>['Rodas de liga', 'Controle de tração', 'Câmbi...</td>\n      <td>68934.03</td>\n    </tr>\n    <tr>\n      <th>Aston Martin DB5</th>\n      <td>Motor Diesel</td>\n      <td>1996</td>\n      <td>7685.0</td>\n      <td>False</td>\n      <td>['Ar condicionado', '4 X 4', 'Câmbio automátic...</td>\n      <td>122110.90</td>\n    </tr>\n    <tr>\n      <th>Macan</th>\n      <td>Motor Diesel V6</td>\n      <td>1992</td>\n      <td>50188.0</td>\n      <td>False</td>\n      <td>['Central multimídia', 'Teto panorâmico', 'Vid...</td>\n      <td>90381.47</td>\n    </tr>\n  </tbody>\n</table>\n<p>258 rows × 6 columns</p>\n</div>"
     },
     "metadata": {}
    }
   ],
   "source": [
    "import pandas as pd\n",
    "with open ('Python_Data_Science\\Pandas\\data\\db.csv', 'rb') as file:\n",
    "    ds = pd.read_csv(file, sep=';', index_col=0, header=0)\n",
    "\n",
    "\n",
    "display(ds)"
   ]
  },
  {
   "cell_type": "code",
   "execution_count": 63,
   "metadata": {},
   "outputs": [
    {
     "output_type": "execute_result",
     "data": {
      "text/plain": [
       "Nome\n",
       "Jetta Variant             88078.64\n",
       "Passat                   106161.94\n",
       "Crossfox                  72832.16\n",
       "DS5                      124549.07\n",
       "Aston Martin DB4          92612.10\n",
       "                           ...    \n",
       "Phantom 2013              51759.58\n",
       "Cadillac Ciel concept     51667.06\n",
       "Classe GLK                68934.03\n",
       "Aston Martin DB5         122110.90\n",
       "Macan                     90381.47\n",
       "Name: Valor, Length: 258, dtype: float64"
      ]
     },
     "metadata": {},
     "execution_count": 63
    }
   ],
   "source": [
    "ds[\"Valor\"]"
   ]
  },
  {
   "cell_type": "code",
   "execution_count": 68,
   "metadata": {},
   "outputs": [
    {
     "output_type": "execute_result",
     "data": {
      "text/plain": [
       "                           Valor\n",
       "Nome                            \n",
       "Jetta Variant           88078.64\n",
       "Passat                 106161.94\n",
       "Crossfox                72832.16\n",
       "DS5                    124549.07\n",
       "Aston Martin DB4        92612.10\n",
       "...                          ...\n",
       "Phantom 2013            51759.58\n",
       "Cadillac Ciel concept   51667.06\n",
       "Classe GLK              68934.03\n",
       "Aston Martin DB5       122110.90\n",
       "Macan                   90381.47\n",
       "\n",
       "[258 rows x 1 columns]"
      ],
      "text/html": "<div>\n<style scoped>\n    .dataframe tbody tr th:only-of-type {\n        vertical-align: middle;\n    }\n\n    .dataframe tbody tr th {\n        vertical-align: top;\n    }\n\n    .dataframe thead th {\n        text-align: right;\n    }\n</style>\n<table border=\"1\" class=\"dataframe\">\n  <thead>\n    <tr style=\"text-align: right;\">\n      <th></th>\n      <th>Valor</th>\n    </tr>\n    <tr>\n      <th>Nome</th>\n      <th></th>\n    </tr>\n  </thead>\n  <tbody>\n    <tr>\n      <th>Jetta Variant</th>\n      <td>88078.64</td>\n    </tr>\n    <tr>\n      <th>Passat</th>\n      <td>106161.94</td>\n    </tr>\n    <tr>\n      <th>Crossfox</th>\n      <td>72832.16</td>\n    </tr>\n    <tr>\n      <th>DS5</th>\n      <td>124549.07</td>\n    </tr>\n    <tr>\n      <th>Aston Martin DB4</th>\n      <td>92612.10</td>\n    </tr>\n    <tr>\n      <th>...</th>\n      <td>...</td>\n    </tr>\n    <tr>\n      <th>Phantom 2013</th>\n      <td>51759.58</td>\n    </tr>\n    <tr>\n      <th>Cadillac Ciel concept</th>\n      <td>51667.06</td>\n    </tr>\n    <tr>\n      <th>Classe GLK</th>\n      <td>68934.03</td>\n    </tr>\n    <tr>\n      <th>Aston Martin DB5</th>\n      <td>122110.90</td>\n    </tr>\n    <tr>\n      <th>Macan</th>\n      <td>90381.47</td>\n    </tr>\n  </tbody>\n</table>\n<p>258 rows × 1 columns</p>\n</div>"
     },
     "metadata": {},
     "execution_count": 68
    }
   ],
   "source": [
    "ds[[\"Valor\"]]"
   ]
  },
  {
   "cell_type": "code",
   "execution_count": null,
   "metadata": {},
   "outputs": [],
   "source": []
  }
 ]
}