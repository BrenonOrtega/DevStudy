{
 "metadata": {
  "language_info": {
   "codemirror_mode": {
    "name": "ipython",
    "version": 3
   },
   "file_extension": ".py",
   "mimetype": "text/x-python",
   "name": "python",
   "nbconvert_exporter": "python",
   "pygments_lexer": "ipython3",
   "version": "3.9.1-final"
  },
  "orig_nbformat": 2,
  "kernelspec": {
   "name": "python3",
   "display_name": "Python 3.9.1 64-bit",
   "metadata": {
    "interpreter": {
     "hash": "1bf3c79337c2469476823b6952886bcae960a573f5e5aadb3512976765d29961"
    }
   }
  }
 },
 "nbformat": 4,
 "nbformat_minor": 2,
 "cells": [
  {
   "cell_type": "code",
   "execution_count": null,
   "metadata": {},
   "outputs": [],
   "source": [
    "#   Desafio Capitulo1\n",
    "url = 'www.bytebank.com.br/cambio?valor=1500&moedaOrigem=real&moedaDestino=dolar'\n",
    "\n",
    "url_menor = 'cambio?valor=1500&moedaOrigem=real&moedaDestino=dolar'\n",
    "\n",
    "index_argumentos = url_menor.find('?') + 1\n",
    "\n",
    "argumentos = url_menor[index_argumentos:] \n",
    "\n",
    "\n",
    "print(f'''indice dos argumentos: {index_argumentos}\n",
    "    argumentos da url: {argumentos}\n",
    "''')\n",
    "\n",
    "\n",
    "\n",
    "\n"
   ]
  },
  {
   "cell_type": "code",
   "execution_count": null,
   "metadata": {},
   "outputs": [],
   "source": [
    "#   Empty, 0 e None/Null no python\n",
    "string = ''\n",
    "string1 = None\n",
    "string2 = 0\n",
    "string3 = \"algo\"\n",
    "\n",
    "def verifica_string(string):\n",
    "   return \"Existe algo nesta string\" if string else  \"Não existe nada aqui\"\n",
    "\n",
    "print(verifica_string(string))\n",
    "print(verifica_string(string1))\n",
    "print(verifica_string(string2))\n",
    "print(verifica_string(string3))"
   ]
  },
  {
   "cell_type": "code",
   "execution_count": null,
   "metadata": {},
   "outputs": [],
   "source": [
    "\n",
    "#Métodos de classe (estáticos) para verificar nossa string\n",
    "class UrlArgExtractor:\n",
    "    def __init__(self, url):\n",
    "        if self.is_url_valid(url): \n",
    "            self.url = url.lower()\n",
    "        else:\n",
    "            raise LookupError('String Inválida!')\n",
    "\n",
    "    @staticmethod\n",
    "    def is_url_valid(url):\n",
    "        return True if url else False\n",
    "    \n",
    "    def arg_extract(self):\n",
    "        origin_initial_index = self.url.find('=', 14) + 1\n",
    "        origin_final_index = self.url.find('&', origin_initial_index)\n",
    "        \n",
    "        destiny_initial_index = self.url.find('=', origin_final_index) + 1\n",
    "        destiny_final_index = self.url.find('&', destiny_initial_index) \n",
    "\n",
    "        origem = self.url[origin_initial_index : origin_final_index]\n",
    "        destino = self.url[destiny_initial_index :]\n",
    "\n",
    "        return origem, destino\n",
    "\n",
    "url_menor = 'cambio?valor=1500&moedaOrigem=real&moedaDestino=dolar'\n",
    "\n",
    "a = UrlArgExtractor(url_menor)\n",
    "origem, destino = a.arg_extract()\n",
    "print(origem, destino)"
   ]
  },
  {
   "cell_type": "code",
   "execution_count": 13,
   "metadata": {},
   "outputs": [
    {
     "output_type": "execute_result",
     "data": {
      "text/plain": [
       "9"
      ]
     },
     "metadata": {},
     "execution_count": 13
    }
   ],
   "source": [
    "#   Metodo find():\n",
    "\n",
    "a = \"teste de strings\"\n",
    "\n",
    "a.find('st', 3)\n"
   ]
  },
  {
   "source": [
    "#Refatorando a classe UrlArgExtrator com find e replace\n",
    "#Refatorando a classe UrlArgExtrator com find e replace\n",
    "class UrlArgExtractor:\n",
    "    def __init__(self, url):\n",
    "        if self.is_url_valid(url): \n",
    "            self.url = url.lower()\n",
    "        else:\n",
    "            raise LookupError('String Inválida!')\n",
    "\n",
    "    @staticmethod\n",
    "    def is_url_valid(url):\n",
    "        return True if url else False\n",
    "    \n",
    "    def arg_extract(self):\n",
    "        moeda_origem = self.get_moeda_origem()\n",
    "\n",
    "        if moeda_origem == \"moedadestino\":\n",
    "            self.troca_moeda_origem()\n",
    "            moeda_origem = self.get_moeda_origem()\n",
    "\n",
    "        moeda_destino = self.get_moeda_destino()\n",
    "\n",
    "        return moeda_origem, moeda_destino, self.extract_value()\n",
    "\n",
    "    def get_initial_index(self, moeda_buscada):\n",
    "         return self.url.find(moeda_buscada) + len(moeda_buscada) \n",
    "\n",
    "    def troca_moeda_origem(self):\n",
    "        self.url = self.url.replace(\"moedadestino\", 'real',1)\n",
    "\n",
    "    def get_moeda_origem(self):\n",
    "        moeda_origem = 'moedaOrigem='.lower()\n",
    "        origin_initial_index = self.get_initial_index(moeda_origem)\n",
    "        origin_final_index = self.url.find('&', origin_initial_index)\n",
    "        return self.url[origin_initial_index : origin_final_index]\n",
    "    \n",
    "    def get_moeda_destino(self):\n",
    "        moeda_destino = \"moedaDestino=\".lower()\n",
    "        destiny_initial_index = self.get_initial_index(moeda_destino)\n",
    "        destiny_final_index = self.url.find(\"&\", destiny_initial_index)\n",
    "        return self.url[destiny_initial_index : destiny_final_index]\n",
    "\n",
    "    def extract_value(self):\n",
    "        valor = \"valor=\".lower()\n",
    "        valor_initial_index = self.url.find(valor) + len(valor)\n",
    "        return self.url[valor_initial_index : ]\n",
    "\n",
    "\n",
    "url_menor = 'cambio?moedaOrigem=moedaDestino&moedaDestino=dolar&valor=1500'\n",
    "url = 'https://www.bytebank.com.br/cambio?valor=1500&moedaOrigem=real&moedaDestino=dolar'\n",
    "\n",
    "a = UrlArgExtractor(url)\n",
    "origem, destino, valor = a.arg_extract()\n",
    "print(origem, destino, valor)"
   ],
   "cell_type": "code",
   "metadata": {},
   "execution_count": 2,
   "outputs": [
    {
     "output_type": "stream",
     "name": "stdout",
     "text": [
      "real dola 1500&moedaorigem=real&moedadestino=dolar\n"
     ]
    }
   ]
  },
  {
   "source": [
    "#Nesta aula, vimos mais métodos que as strings possuem. Tendo em mente tudo que vimos até aqui, dê uma olhada no código abaixo:\n",
    "\n",
    "nome       = 'Eren Yeager'\n",
    "tamanho = len(nome)\n",
    "indice      = nome.find('Eren')\n",
    "print(tamanho)\n",
    "print(nome[indice:tamanho])\n",
    "\n",
    "#Qual será a saída desse código?\n",
    "\n"
   ],
   "cell_type": "code",
   "metadata": {},
   "execution_count": 26,
   "outputs": [
    {
     "output_type": "stream",
     "name": "stdout",
     "text": [
      "11\nEren Yeager\n"
     ]
    }
   ]
  },
  {
   "cell_type": "code",
   "execution_count": 55,
   "metadata": {},
   "outputs": [
    {
     "output_type": "stream",
     "name": "stdout",
     "text": [
      "Alan Bruno da silva\nLanzin Bruno da silva\n"
     ]
    }
   ],
   "source": [
    "#Função Replace - A função replace procura uma ocorrencia da string no seu argumento dentro de uma string e a substitui\n",
    "#Alternativamente ela tbm pode receber um argumento adicional que dita quantas ocorrencias ela irá substituir.\n",
    "string = \"Alan Bruno da silva\"\n",
    "print(string)\n",
    "\n",
    "string = string.replace('Alan', \"Lanzin\")\n",
    "print(string)"
   ]
  },
  {
   "cell_type": "code",
   "execution_count": null,
   "metadata": {},
   "outputs": [],
   "source": [
    "#Refatorando a classe novamente \n",
    "\n",
    "#Refatorando a classe UrlArgExtrator com find e replace\n",
    "class UrlArgExtractor:\n",
    "    def __init__(self, url):\n",
    "        if self.is_url_valid(url): \n",
    "            self.url = url.lower()\n",
    "        else:\n",
    "            raise LookupError('String Inválida!')\n",
    "\n",
    "    @staticmethod\n",
    "    def is_url_valid(url):\n",
    "        return True if url else False\n",
    "    \n",
    "    def arg_extract(self):\n",
    "        moeda_origem = self.get_moeda_origem()\n",
    "\n",
    "        if moeda_origem == \"moedadestino\":\n",
    "            self.troca_moeda_origem()\n",
    "            moeda_origem = self.get_moeda_origem()\n",
    "\n",
    "        moeda_destino = self.get_moeda_destino()\n",
    "\n",
    "        return moeda_origem, moeda_destino, self.extract_value()\n",
    "\n",
    "    def get_initial_index(self, moeda_buscada):\n",
    "         return self.url.find(moeda_buscada) + len(moeda_buscada) \n",
    "\n",
    "    def troca_moeda_origem(self):\n",
    "        self.url = self.url.replace(\"moedadestino\", 'real',1)\n",
    "\n",
    "    def get_moeda_origem(self):\n",
    "        moeda_origem = 'moedaOrigem='.lower()\n",
    "        origin_initial_index = self.get_initial_index(moeda_origem)\n",
    "        origin_final_index = self.url.find('&', origin_initial_index)\n",
    "        return self.url[origin_initial_index : origin_final_index]\n",
    "    \n",
    "    def get_moeda_destino(self):\n",
    "        moeda_destino = \"moedaDestino=\".lower()\n",
    "        destiny_initial_index = self.get_initial_index(moeda_destino)\n",
    "        destiny_final_index = self.url.find(\"&\", destiny_initial_index)\n",
    "        return self.url[destiny_initial_index : destiny_final_index]\n",
    "\n",
    "    def extract_value(self):\n",
    "        valor = \"valor=\".lower()\n",
    "        valor_initial_index = self.url.find(valor) + len(valor)\n",
    "        return self.url[valor_initial_index : ]\n",
    "\n",
    "\n"
   ]
  },
  {
   "cell_type": "code",
   "execution_count": null,
   "metadata": {},
   "outputs": [],
   "source": []
  }
 ]
}