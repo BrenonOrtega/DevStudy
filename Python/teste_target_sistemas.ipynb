{
 "metadata": {
  "language_info": {
   "codemirror_mode": {
    "name": "ipython",
    "version": 3
   },
   "file_extension": ".py",
   "mimetype": "text/x-python",
   "name": "python",
   "nbconvert_exporter": "python",
   "pygments_lexer": "ipython3",
   "version": "3.9.1-final"
  },
  "orig_nbformat": 2,
  "kernelspec": {
   "name": "python3",
   "display_name": "Python 3.9.1 64-bit",
   "metadata": {
    "interpreter": {
     "hash": "1bf3c79337c2469476823b6952886bcae960a573f5e5aadb3512976765d29961"
    }
   }
  }
 },
 "nbformat": 4,
 "nbformat_minor": 2,
 "cells": [
  {
   "cell_type": "code",
   "execution_count": null,
   "metadata": {},
   "outputs": [],
   "source": [
    "def fibo(number):\n",
    "    fn1=0\n",
    "    fn2=1\n",
    "    fibo_sequence=[fn1,fn2]\n",
    "    while fibo_sequence[-1] <= number:\n",
    "        fibo_sequence.append(fn1 + fn2)\n",
    "        fn1 = fn2\n",
    "        fn2 = fibo_sequence[-1]\n",
    "    print(fibo_sequence)\n",
    "    if number in fibo_sequence:\n",
    "        print(f'O numero {number} existe na sequência de fibonacci!')\n",
    "    else: \n",
    "        print(f'O numero {number} não existe na sequência de fibonacci.')\n",
    "    return fibo_sequence\n",
    "\n",
    "fibo(int(input(\"Insira um valor:\")))"
   ]
  },
  {
   "cell_type": "code",
   "execution_count": null,
   "metadata": {},
   "outputs": [],
   "source": [
    "class Faturamento(list):\n",
    "    def __init__(self, lista):\n",
    "        super().__init__(self)\n",
    "        self.lista = lista\n",
    "\n",
    "    def menor_faturamento(self):\n",
    "        return min(self.lista)\n",
    "\n",
    "    def maior_faturamento(self):\n",
    "        return max(self.lista)\n",
    "\n",
    "    def media(self):\n",
    "        lista = [valor for valor in self.lista if valor != 0]\n",
    "        return round(sum(self.lista) / len(self.lista), 2)\n",
    "        #usado round por ser built-in para trabalhar com dinheiro é necessário importar a lib decimal\n",
    "diario = [50,1000,2500]\n",
    "\n",
    "a = Faturamento(diario)\n",
    "a.maior_faturamento()\n",
    "a.menor_faturamento()\n",
    "a.media()"
   ]
  },
  {
   "cell_type": "code",
   "execution_count": 130,
   "metadata": {},
   "outputs": [
    {
     "output_type": "stream",
     "name": "stdout",
     "text": [
      "{'SP': 37.528, 'RJ': 20.291, 'MG': 16.171, 'ES': 15.028, 'outros': 10.981}\n"
     ]
    }
   ],
   "source": [
    "faturamento_estados = {\"SP\": 67_836.43, 'RJ':36_678.66, 'MG': 29_229.88, 'ES': 27_165.48, 'outros': 19_849.53}\n",
    "\n",
    "class FaturamentoEstados:\n",
    "    def __init__(self, estados):\n",
    "        self._estados = estados\n",
    " \n",
    "    def representacao_estado(self):\n",
    "        total_faturamento = sum(self._estados.values())\n",
    "        porcentagem_por_estado = {key : round((estado/total_faturamento)*100, 3) for key, estado in self._estados.items()}\n",
    "        print(porcentagem_por_estado)\n",
    "        \n",
    "a = FaturamentoEstados(faturamento_estados)\n",
    "a.representacao_estado()"
   ]
  }
 ]
}